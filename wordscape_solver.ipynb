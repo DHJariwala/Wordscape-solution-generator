{
 "cells": [
  {
   "cell_type": "code",
   "execution_count": 7,
   "metadata": {},
   "outputs": [
    {
     "name": "stdout",
     "output_type": "stream",
     "text": [
      "['ABC', 'ACB', 'BAC', 'BCA', 'CAB', 'CBA']\n"
     ]
    }
   ],
   "source": [
    "import itertools\n",
    " \n",
    "nums = list(\"ABC\")\n",
    "permutations = list(itertools.permutations(nums))\n",
    "permutes = [''.join(permutation) for permutation in permutations]\n",
    "print(permutes)"
   ]
  },
  {
   "cell_type": "code",
   "execution_count": 14,
   "metadata": {},
   "outputs": [
    {
     "name": "stderr",
     "output_type": "stream",
     "text": [
      "[nltk_data] Downloading package words to\n",
      "[nltk_data]     /Users/devjariwala/nltk_data...\n",
      "[nltk_data]   Unzipping corpora/words.zip.\n"
     ]
    },
    {
     "data": {
      "text/plain": [
       "True"
      ]
     },
     "execution_count": 14,
     "metadata": {},
     "output_type": "execute_result"
    }
   ],
   "source": [
    "# Main program starts\n",
    "import nltk\n",
    "nltk.download('words')"
   ]
  },
  {
   "cell_type": "code",
   "execution_count": 17,
   "metadata": {},
   "outputs": [],
   "source": [
    "def is_english_word(string):\n",
    "    if string in words.words():\n",
    "        return 1\n",
    "    return 0"
   ]
  },
  {
   "cell_type": "code",
   "execution_count": 88,
   "metadata": {},
   "outputs": [],
   "source": [
    "def find_words(toFind):\n",
    "# toFind = input(\"Enter list of words (without space): \").lower()\n",
    "#     print(\"Search letters: \" + toFind)\n",
    "#     print(\"Number of letters: \" + str(i+1))\n",
    "    # toFind = toFind.lower()\n",
    "    wordsList = []\n",
    "    nums = list(toFind)\n",
    "    permutations = list(itertools.permutations(nums))\n",
    "    permutes = [''.join(permutation) for permutation in permutations]\n",
    "    for word in permutes:\n",
    "        if is_english_word(word):\n",
    "            wordsList.append(word)\n",
    "#             print(word)\n",
    "            pass\n",
    "        pass\n",
    "    return wordsList\n",
    "\n",
    "# print(find_words(input(\"Enter letters without space: \").lower()))\n",
    "\n",
    "# print(is_english_word(toFind))"
   ]
  },
  {
   "cell_type": "code",
   "execution_count": 93,
   "metadata": {},
   "outputs": [],
   "source": [
    "# def print_list(l):\n",
    "#     currentLength = 1\n",
    "#     print(\"The number of letters is 1\")\n",
    "#     for i in l:\n",
    "#         if len(i) == currentLength:\n",
    "#             for x in i:\n",
    "#                 print(x)\n",
    "#             pass\n",
    "#         else:\n",
    "#             currentLength += 1\n",
    "#             print(\"The number of letters is \" + str(currentLength))\n",
    "#             for x in i:\n",
    "#                 print(x)\n",
    "#         pass\n",
    "#     pass\n",
    "def print_list(l):\n",
    "    for x in l:\n",
    "        for i in x:\n",
    "            print(str(len(i)) + \"  \" + str(i))\n",
    "            pass\n",
    "        pass\n",
    "    pass"
   ]
  },
  {
   "cell_type": "code",
   "execution_count": 94,
   "metadata": {},
   "outputs": [],
   "source": [
    "from itertools import combinations\n",
    "# x = input(\"Enter letters without space: \").lower()\n",
    "# allCombinations = [''.join(l) for i in range(len(x)) for l in combinations(x, i+1)]\n",
    "# existingWords = []\n",
    "# for i in allCombinations:\n",
    "#     print(\"current combination: \" + i)\n",
    "#     existingWords.append(find_words(i))\n",
    "#     pass\n",
    "# print_list(existingWords)"
   ]
  },
  {
   "cell_type": "code",
   "execution_count": 95,
   "metadata": {},
   "outputs": [],
   "source": [
    "def all_existing_words(x, print_combinations = False):\n",
    "    allCombinations = [''.join(l) for i in range(len(x)) for l in combinations(x, i+1)]\n",
    "    existingWords = []\n",
    "    for i in allCombinations:\n",
    "        if print_combinations:\n",
    "            print(\"current combination: \" + i)\n",
    "            existingWords.append(find_words(i))\n",
    "        else:\n",
    "            existingWords.append(find_words(i))\n",
    "        pass\n",
    "    print_list(existingWords)\n",
    "    pass"
   ]
  },
  {
   "cell_type": "code",
   "execution_count": 103,
   "metadata": {},
   "outputs": [
    {
     "name": "stdout",
     "output_type": "stream",
     "text": [
      "Enter letters without space: ielan\n",
      "current combination: i\n",
      "current combination: e\n",
      "current combination: l\n",
      "current combination: a\n",
      "current combination: n\n",
      "current combination: ie\n",
      "current combination: il\n",
      "current combination: ia\n",
      "current combination: in\n",
      "current combination: el\n",
      "current combination: ea\n",
      "current combination: en\n",
      "current combination: la\n",
      "current combination: ln\n",
      "current combination: an\n",
      "current combination: iel\n",
      "current combination: iea\n",
      "current combination: ien\n",
      "current combination: ila\n",
      "current combination: iln\n",
      "current combination: ian\n",
      "current combination: ela\n",
      "current combination: eln\n",
      "current combination: ean\n",
      "current combination: lan\n",
      "current combination: iela\n",
      "current combination: ieln\n",
      "current combination: iean\n",
      "current combination: ilan\n",
      "current combination: elan\n",
      "current combination: ielan\n",
      "1  i\n",
      "1  e\n",
      "1  l\n",
      "1  a\n",
      "1  n\n",
      "2  ie\n",
      "2  li\n",
      "2  ai\n",
      "2  in\n",
      "2  ni\n",
      "2  el\n",
      "2  ea\n",
      "2  ae\n",
      "2  en\n",
      "2  ne\n",
      "2  la\n",
      "2  al\n",
      "2  an\n",
      "2  na\n",
      "3  lie\n",
      "3  lei\n",
      "3  nei\n",
      "3  lai\n",
      "3  ail\n",
      "3  lin\n",
      "3  nil\n",
      "3  ani\n",
      "3  lea\n",
      "3  ale\n",
      "3  ean\n",
      "3  nea\n",
      "3  nae\n",
      "3  lan\n",
      "3  aln\n",
      "4  aiel\n",
      "4  aile\n",
      "4  lien\n",
      "4  line\n",
      "4  lina\n",
      "4  lain\n",
      "4  alin\n",
      "4  anil\n",
      "4  nail\n",
      "4  lean\n",
      "4  lane\n",
      "4  alen\n",
      "4  neal\n",
      "4  nael\n",
      "5  elain\n",
      "5  linea\n",
      "5  laine\n",
      "5  alien\n",
      "5  anile\n"
     ]
    }
   ],
   "source": [
    "x = input(\"Enter letters without space: \").lower()\n",
    "all_existing_words(x,True)"
   ]
  },
  {
   "cell_type": "code",
   "execution_count": null,
   "metadata": {},
   "outputs": [],
   "source": []
  }
 ],
 "metadata": {
  "kernelspec": {
   "display_name": "Python 3",
   "language": "python",
   "name": "python3"
  },
  "language_info": {
   "codemirror_mode": {
    "name": "ipython",
    "version": 3
   },
   "file_extension": ".py",
   "mimetype": "text/x-python",
   "name": "python",
   "nbconvert_exporter": "python",
   "pygments_lexer": "ipython3",
   "version": "3.7.4"
  }
 },
 "nbformat": 4,
 "nbformat_minor": 2
}
